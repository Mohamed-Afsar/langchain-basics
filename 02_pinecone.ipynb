{
 "cells": [
  {
   "cell_type": "markdown",
   "id": "c54ee531-1917-4e20-91b5-7c1bd563d198",
   "metadata": {},
   "source": [
    "# Diving into Pinecone"
   ]
  },
  {
   "cell_type": "code",
   "execution_count": 1,
   "id": "876adb77-44c4-4b7e-966a-b67e1d1c4425",
   "metadata": {},
   "outputs": [
    {
     "data": {
      "text/plain": [
       "True"
      ]
     },
     "execution_count": 1,
     "metadata": {},
     "output_type": "execute_result"
    }
   ],
   "source": [
    "import os\n",
    "from dotenv import load_dotenv, find_dotenv\n",
    "load_dotenv(find_dotenv(), override=True)"
   ]
  },
  {
   "cell_type": "code",
   "execution_count": 2,
   "id": "2d204b58-6584-4d89-89b1-fdbbacbab505",
   "metadata": {},
   "outputs": [
    {
     "name": "stderr",
     "output_type": "stream",
     "text": [
      "/opt/homebrew/lib/python3.11/site-packages/pinecone/index.py:4: TqdmWarning: IProgress not found. Please update jupyter and ipywidgets. See https://ipywidgets.readthedocs.io/en/stable/user_install.html\n",
      "  from tqdm.autonotebook import tqdm\n"
     ]
    }
   ],
   "source": [
    "import pinecone\n",
    "pinecone.init(\n",
    "    api_key=os.environ.get('PINECONE_API_KEY'),\n",
    "    environment=os.environ.get('PINECONE_ENV'),\n",
    ")"
   ]
  },
  {
   "cell_type": "code",
   "execution_count": 3,
   "id": "2556b0c3-e80d-4044-853c-311850da53a1",
   "metadata": {},
   "outputs": [
    {
     "data": {
      "text/plain": [
       "VersionResponse(server='2.0.11', client='2.2.4')"
      ]
     },
     "execution_count": 3,
     "metadata": {},
     "output_type": "execute_result"
    }
   ],
   "source": [
    "pinecone.info.version()"
   ]
  },
  {
   "cell_type": "markdown",
   "id": "8ad43638-c858-4213-bf0f-05ebe4f71fa0",
   "metadata": {},
   "source": [
    "## Pinecone Indexes"
   ]
  },
  {
   "cell_type": "code",
   "execution_count": 4,
   "id": "eb75f0c4-6090-4605-8c89-c2cccd8d90db",
   "metadata": {},
   "outputs": [
    {
     "data": {
      "text/plain": [
       "[]"
      ]
     },
     "execution_count": 4,
     "metadata": {},
     "output_type": "execute_result"
    }
   ],
   "source": [
    "pinecone.list_indexes()"
   ]
  },
  {
   "cell_type": "code",
   "execution_count": 8,
   "id": "9fc9ac6a-55a4-45fc-98d3-6289afdb444c",
   "metadata": {},
   "outputs": [
    {
     "name": "stdout",
     "output_type": "stream",
     "text": [
      "Creating index langchain-pinecone...\n",
      "Done\n"
     ]
    }
   ],
   "source": [
    "index_name = 'langchain-pinecone'\n",
    "if index_name not in pinecone.list_indexes():\n",
    "    print(f'Creating index {index_name}...')\n",
    "    pinecone.create_index(index_name, dimension=1536, metric='cosine', pods=1)\n",
    "    print('Done')\n",
    "else:\n",
    "    print(f'{index_name} was already created')"
   ]
  },
  {
   "cell_type": "code",
   "execution_count": 6,
   "id": "1bf36cba-14f8-4e92-be80-8aaded53bfbc",
   "metadata": {},
   "outputs": [
    {
     "data": {
      "text/plain": [
       "IndexDescription(name='langchain-pinecone', metric='cosine', replicas=1, dimension=1536.0, shards=1, pods=1, pod_type='starter', status={'ready': True, 'state': 'Ready'}, metadata_config=None, source_collection='')"
      ]
     },
     "execution_count": 6,
     "metadata": {},
     "output_type": "execute_result"
    }
   ],
   "source": [
    "pinecone.describe_index(index_name)"
   ]
  },
  {
   "cell_type": "markdown",
   "id": "68a15412-32f3-4cca-be12-e3fdf805f505",
   "metadata": {},
   "source": [
    "### Deleting an Index"
   ]
  },
  {
   "cell_type": "code",
   "execution_count": 7,
   "id": "8184bc1b-8de1-4344-86d4-3d50633fcdf3",
   "metadata": {},
   "outputs": [
    {
     "name": "stdout",
     "output_type": "stream",
     "text": [
      "Deleting index langchain-pinecone...\n",
      "Done\n"
     ]
    }
   ],
   "source": [
    "index_name = 'langchain-pinecone'\n",
    "if index_name in pinecone.list_indexes():\n",
    "    print(f'Deleting index {index_name}...')\n",
    "    pinecone.delete_index(index_name)\n",
    "    print('Done')\n",
    "else:\n",
    "    print(f'{index_name} not found')"
   ]
  },
  {
   "cell_type": "code",
   "execution_count": 9,
   "id": "9db680c6-278f-46da-983a-40f5f75ca994",
   "metadata": {},
   "outputs": [
    {
     "data": {
      "text/plain": [
       "{'dimension': 1536,\n",
       " 'index_fullness': 0.0,\n",
       " 'namespaces': {},\n",
       " 'total_vector_count': 0}"
      ]
     },
     "execution_count": 9,
     "metadata": {},
     "output_type": "execute_result"
    }
   ],
   "source": [
    "index_name = 'langchain-pinecone'\n",
    "index = pinecone.Index(index_name)\n",
    "index.describe_index_stats()"
   ]
  },
  {
   "cell_type": "code",
   "execution_count": null,
   "id": "6b590f30-f069-4a5c-a199-d6a01d082851",
   "metadata": {},
   "outputs": [],
   "source": []
  }
 ],
 "metadata": {
  "kernelspec": {
   "display_name": "Python 3 (ipykernel)",
   "language": "python",
   "name": "python3"
  },
  "language_info": {
   "codemirror_mode": {
    "name": "ipython",
    "version": 3
   },
   "file_extension": ".py",
   "mimetype": "text/x-python",
   "name": "python",
   "nbconvert_exporter": "python",
   "pygments_lexer": "ipython3",
   "version": "3.11.6"
  }
 },
 "nbformat": 4,
 "nbformat_minor": 5
}
